{
 "cells": [
  {
   "cell_type": "code",
   "execution_count": 1,
   "metadata": {},
   "outputs": [],
   "source": [
    "## Reference\n",
    "# https://mubaris.com/posts/linear-regression/\n",
    "# http://hyperanalytic.net/ridge-regression\n",
    "# β̂ ridgeλ=(XTX+λIp)−1XTy"
   ]
  },
  {
   "cell_type": "code",
   "execution_count": 2,
   "metadata": {},
   "outputs": [],
   "source": [
    "### DATA DESCRIPTION\n",
    "\n",
    "#     1. CRIM      per capita crime rate by town\n",
    "#     2. ZN        proportion of residential land zoned for lots over \n",
    "#                  25,000 sq.ft.\n",
    "#     3. INDUS     proportion of non-retail business acres per town\n",
    "#     4. CHAS      Charles River dummy variable (= 1 if tract bounds \n",
    "#                  river; 0 otherwise)\n",
    "#     5. NOX       nitric oxides concentration (parts per 10 million)\n",
    "#     6. RM        average number of rooms per dwelling\n",
    "#     7. AGE       proportion of owner-occupied units built prior to 1940\n",
    "#     8. DIS       weighted distances to five Boston employment centres\n",
    "#     9. RAD       index of accessibility to radial highways\n",
    "#     10. TAX      full-value property-tax rate per $10,000\n",
    "#     11. PTRATIO  pupil-teacher ratio by town\n",
    "#     12. B        1000(Bk - 0.63)^2 where Bk is the proportion of blacks \n",
    "#                  by town\n",
    "#     13. LSTAT    % lower status of the population\n",
    "#     14. MEDV     Median value of owner-occupied homes in $1000's"
   ]
  },
  {
   "cell_type": "code",
   "execution_count": 3,
   "metadata": {},
   "outputs": [],
   "source": [
    "## LIBRARIES\n",
    "\n",
    "import numpy as np\n",
    "import pandas as pd\n",
    "import math\n",
    "from numpy.linalg import inv"
   ]
  },
  {
   "cell_type": "code",
   "execution_count": 4,
   "metadata": {},
   "outputs": [],
   "source": [
    "## LOAD DATA\n",
    "train = pd.read_csv('housing_train.txt', sep = \"\\s+\",header=None)\n",
    "#data.columns = [\"a\", \"b\", \"c\", \"etc.\"]\n",
    "\n",
    "#split into features and labels\n",
    "train_x = train.iloc[:,0:13]\n",
    "train_y = train.iloc[:,13]\n",
    "\n",
    "x0 = np.ones(len(train_x))\n",
    "train_x['b'] = pd.Series(x0)\n",
    "\n",
    "\n",
    "test = pd.read_csv('housing_test.txt', sep = \"\\s+\",header=None)\n",
    "\n",
    "#split into features and labels\n",
    "test_x = test.iloc[:,0:13]\n",
    "test_y = test.iloc[:,13]\n",
    "\n",
    "\n",
    "x0 = np.ones(len(test_x))\n",
    "test_x['b'] = pd.Series(x0)"
   ]
  },
  {
   "cell_type": "code",
   "execution_count": 5,
   "metadata": {},
   "outputs": [],
   "source": [
    "# Initial Coefficients\n",
    "Y = np.array(train_y, dtype=np.float64)\n",
    "X = np.array(train_x, dtype=np.float64)\n",
    "lam = .1\n",
    "lambda_identity = lam*np.identity(len(X.T))\n",
    "\n"
   ]
  },
  {
   "cell_type": "code",
   "execution_count": 6,
   "metadata": {},
   "outputs": [],
   "source": [
    "W = inv(X.T.dot(X)+lambda_identity).dot(X.T.dot(Y))"
   ]
  },
  {
   "cell_type": "code",
   "execution_count": 7,
   "metadata": {},
   "outputs": [
    {
     "data": {
      "text/plain": [
       "array([-1.00460338e-01,  4.65585913e-02, -1.04850871e-02,  3.10744570e+00,\n",
       "       -1.38665853e+01,  3.99057465e+00,  4.80969672e-03, -1.50578427e+00,\n",
       "        3.54770908e-01, -1.55286343e-02, -9.28420605e-01,  1.07485017e-02,\n",
       "       -5.74562742e-01,  3.36383698e+01])"
      ]
     },
     "execution_count": 7,
     "metadata": {},
     "output_type": "execute_result"
    }
   ],
   "source": [
    "W"
   ]
  },
  {
   "cell_type": "code",
   "execution_count": 10,
   "metadata": {},
   "outputs": [
    {
     "name": "stdout",
     "output_type": "stream",
     "text": [
      "Train MSE: 22.137994945262953\n"
     ]
    }
   ],
   "source": [
    "# Model Evaluation - RMSE\n",
    "def mse(Y, Y_pred):\n",
    "    mse = 0\n",
    "    for i in range(len(Y)):\n",
    "        mse += ((Y_pred[i]-Y[i]) ** 2) / len(Y)\n",
    "    return(mse)\n",
    "\n",
    "# Model Evaluation - R2 Score\n",
    "def r2_score(Y, Y_pred):\n",
    "    mean_y = np.mean(Y)\n",
    "    ss_tot = sum((Y - mean_y) ** 2)\n",
    "    ss_res = sum((Y - Y_pred) ** 2)\n",
    "    r2 = 1 - (ss_res / ss_tot)\n",
    "    return r2\n",
    "\n",
    "Y_pred = X.dot(W)\n",
    "\n",
    "print(\"Train MSE: \" +str(mse(Y, Y_pred)))\n",
    "#print(r2_score(Y, Y_pred))"
   ]
  },
  {
   "cell_type": "code",
   "execution_count": 9,
   "metadata": {},
   "outputs": [
    {
     "name": "stdout",
     "output_type": "stream",
     "text": [
      "Test MSE: 22.35789176837008\n"
     ]
    }
   ],
   "source": [
    "Y_test = np.array(test_y)\n",
    "X_test = np.array(test_x)\n",
    "test_pred = X_test.dot(W)\n",
    "print(\"Test MSE: \" + str(mse(Y_test, test_pred)))\n"
   ]
  },
  {
   "cell_type": "code",
   "execution_count": null,
   "metadata": {},
   "outputs": [],
   "source": []
  }
 ],
 "metadata": {
  "kernelspec": {
   "display_name": "Python 3",
   "language": "python",
   "name": "python3"
  },
  "language_info": {
   "codemirror_mode": {
    "name": "ipython",
    "version": 3
   },
   "file_extension": ".py",
   "mimetype": "text/x-python",
   "name": "python",
   "nbconvert_exporter": "python",
   "pygments_lexer": "ipython3",
   "version": "3.6.0"
  }
 },
 "nbformat": 4,
 "nbformat_minor": 2
}
