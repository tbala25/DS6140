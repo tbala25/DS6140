{
 "cells": [
  {
   "cell_type": "code",
   "execution_count": 1,
   "metadata": {},
   "outputs": [],
   "source": [
    "## Reference\n",
    "# https://mubaris.com/posts/linear-regression/\n",
    "\n",
    "#http://archive.ics.uci.edu/ml/machine-learning-databases/spambase/spambase.DOCUMENTATION"
   ]
  },
  {
   "cell_type": "code",
   "execution_count": 8,
   "metadata": {},
   "outputs": [],
   "source": [
    "## LIBRARIES\n",
    "\n",
    "import numpy as np\n",
    "import pandas as pd\n",
    "import math\n",
    "import random\n",
    "from collections import Counter\n",
    "from numpy.linalg import inv\n",
    "\n",
    "from sklearn.metrics import roc_curve, auc\n",
    "import matplotlib.pyplot as plt"
   ]
  },
  {
   "cell_type": "code",
   "execution_count": 3,
   "metadata": {},
   "outputs": [
    {
     "name": "stdout",
     "output_type": "stream",
     "text": [
      "0\n",
      "1\n",
      "2\n",
      "3\n",
      "4\n",
      "5\n",
      "6\n",
      "7\n",
      "8\n",
      "9\n",
      "10\n",
      "11\n",
      "12\n",
      "13\n",
      "14\n",
      "15\n",
      "16\n",
      "17\n",
      "18\n",
      "19\n",
      "20\n",
      "21\n",
      "22\n",
      "23\n",
      "24\n",
      "25\n",
      "26\n",
      "27\n",
      "28\n",
      "29\n",
      "30\n",
      "31\n",
      "32\n",
      "33\n",
      "34\n",
      "35\n",
      "36\n",
      "37\n",
      "38\n",
      "39\n",
      "40\n",
      "41\n",
      "42\n",
      "43\n",
      "44\n",
      "45\n",
      "46\n",
      "47\n",
      "48\n",
      "49\n",
      "50\n",
      "51\n",
      "52\n",
      "53\n",
      "54\n",
      "55\n",
      "56\n"
     ]
    }
   ],
   "source": [
    "## LOAD DATA\n",
    "data = pd.read_csv('spambase_data.txt', sep = \",\",header=None)\n",
    "\n",
    "for col in data.iloc[:,:-1]:\n",
    "    stdev = np.std(data[col])\n",
    "    col_mean = data[col].mean()\n",
    "    print(col)\n",
    "    for i in range(len(data)):\n",
    "        data.iloc[i,col] = (data[col][i] - col_mean)/stdev\n",
    "        \n",
    "#     #data[col] = col\n",
    "    \n",
    "\n",
    "x0 = np.ones(len(data))\n",
    "#data['b'] = pd.Series(x0)\n"
   ]
  },
  {
   "cell_type": "code",
   "execution_count": 4,
   "metadata": {},
   "outputs": [],
   "source": [
    "##K-FOLDS\n",
    "\n",
    "k = 5\n",
    "fold_size = math.ceil(len(data) / k)\n",
    "dataset_split = list()\n",
    "ind_count = 0\n",
    "for i in range(k):\n",
    "    #print(i)\n",
    "    dataset_split.append(data.iloc[ind_count:ind_count+fold_size,:])\n",
    "    ind_count = ind_count + fold_size + 1\n",
    "    \n",
    "def create_train_test(train_ind, test_ind):\n",
    "    train = pd.DataFrame()\n",
    "    test = pd.DataFrame()\n",
    "    for i in train_ind:\n",
    "        train = train.append(dataset_split[i])\n",
    "    #for i in test_ind:\n",
    "    test = test.append(dataset_split[test_ind])\n",
    "    return(train, test)"
   ]
  },
  {
   "cell_type": "code",
   "execution_count": 12,
   "metadata": {},
   "outputs": [],
   "source": [
    "def sigmoid(scores):\n",
    "    return 1 / (1 + np.exp(-scores))\n",
    "\n",
    "def log_likelihood(features, target, weights):\n",
    "    scores = np.dot(features, weights)\n",
    "    ll = np.sum( target*scores - np.log(1 + np.exp(scores)) )\n",
    "    return ll\n",
    "\n",
    "def init_log_reg(k, train_ind, test_ind, iterations, alpha):\n",
    "    print(\"Epoch \" + str(k+1))\n",
    "    \n",
    "    train,test = create_train_test(train_ind, test_ind)\n",
    "\n",
    "    train_x = train.iloc[:,0:57]\n",
    "    train_y = train.iloc[:,57]\n",
    "    \n",
    "    \n",
    "    test_x = test.iloc[:,0:57]\n",
    "    test_y = test.iloc[:,57]\n",
    "    \n",
    "    #print(Counter(train_y))\n",
    "    #print(Counter(test_y))\n",
    "    \n",
    "    Y = np.array(train_y, dtype=np.float64)\n",
    "    X = np.array(train_x, dtype=np.float64)\n",
    "    \n",
    "    Y_test = np.array(test_y)\n",
    "    X_test = np.array(test_x)\n",
    "    \n",
    "    weights = np.zeros(57)\n",
    "    \n",
    "    past_costs = []\n",
    "    past_thetas = [weights]\n",
    "    \n",
    "    for i in range(iterations):\n",
    "        scores = np.dot(X, weights)\n",
    "        predictions = sigmoid(scores)\n",
    "        error = predictions - Y\n",
    "        cost = np.dot(error.T, error)\n",
    "        past_costs.append(cost)\n",
    "        \n",
    "        # Update weights with gradient\n",
    "        gradient = np.dot(X.T, error)\n",
    "        #weights += alpha * gradient\n",
    "        weights = weights - (alpha * np.dot(X.T, error))\n",
    "        past_thetas.append(weights)\n",
    "        \n",
    "        # Print log-likelihood every so often\n",
    "#         if i % 10000 == 0:\n",
    "#             print(log_likelihood(X, Y, weights))\n",
    "         \n",
    "    Y_pred = sigmoid(np.dot(X, weights))\n",
    "    #print('Train MSE: ' + str(mse(Y, Y_pred)))\n",
    "    \n",
    "    test_pred = sigmoid(np.dot(X_test, weights))\n",
    "    #test_mse = mse(Y_test, test_pred)\n",
    "    tp,fp,tn,fn = accuracy(Y, Y_pred, .65)\n",
    "    print (\"Train Accuracy: \" + str((tp+tn)/(tp+tn+fp+fn)))\n",
    "    \n",
    "    tp,fp,tn,fn = accuracy(Y_test, test_pred, .65)\n",
    "    print (\"Test Accuracy: \" + str((tp+tn)/(tp+tn+fp+fn)))\n",
    "    \n",
    "    \n",
    "    \n",
    "    #print('Test MSE: ' + str(test_mse))\n",
    "    roc_auc(Y_test, test_pred)\n",
    "    \n",
    "    #return(test_mse, tp, fp, tn, fn)\n",
    "    return(tp, fp, tn, fn)\n",
    "    \n",
    "    #return past_weights, past_costs"
   ]
  },
  {
   "cell_type": "code",
   "execution_count": 9,
   "metadata": {},
   "outputs": [],
   "source": [
    "def roc_auc(y_test, preds):\n",
    "    fpr, tpr, threshold = roc_curve(y_test, preds)\n",
    "    roc_auc = auc(fpr, tpr)\n",
    "    print(fpr)\n",
    "    print(tpr)\n",
    "\n",
    "    plt.title('Receiver Operating Characteristic')\n",
    "    plt.plot(fpr, tpr, 'b', label = 'AUC = %0.2f' % roc_auc)\n",
    "    plt.legend(loc = 'lower right')\n",
    "    plt.plot([0, 1], [0, 1],'r--')\n",
    "    plt.xlim([0, 1])\n",
    "    plt.ylim([0, 1])\n",
    "    plt.ylabel('True Positive Rate')\n",
    "    plt.xlabel('False Positive Rate')\n",
    "    plt.show()\n",
    "\n",
    "\n",
    "# Model Evaluation - MSE\n",
    "def mse(Y, Y_pred):\n",
    "    mse = sum((Y - Y_pred) ** 2) / len(Y)\n",
    "    return mse\n",
    "\n",
    "# Model Evaluation - R2 Score\n",
    "def r2_score(Y, Y_pred):\n",
    "    mean_y = np.mean(Y)\n",
    "    ss_tot = sum((Y - mean_y) ** 2)\n",
    "    ss_res = sum((Y - Y_pred) ** 2)\n",
    "    r2 = 1 - (ss_res / ss_tot)\n",
    "    return r2\n",
    "\n",
    "def accuracy(Y, Y_pred, threshold):   \n",
    "    tp,fp,tn,fn = 0,0,0,0\n",
    "    for i in range(len(Y)):\n",
    "        if(Y[i] == 1 and Y_pred[i] >= threshold):\n",
    "            #print(Y[i])\n",
    "            tp += 1\n",
    "        elif(Y[i] == 1 and Y_pred[i] < threshold):\n",
    "            #print(Y[i])\n",
    "            fn += 1\n",
    "        elif(Y[i] == 0 and Y_pred[i] < threshold):\n",
    "            tn += 1\n",
    "        elif(Y[i] == 0 and Y_pred[i] >= threshold):\n",
    "            fp += 1\n",
    "#     print(tp)\n",
    "#     print(fp)\n",
    "#     print(tp+fp+fn+tn)\n",
    "\n",
    "    return tp,fp,tn,fn"
   ]
  },
  {
   "cell_type": "code",
   "execution_count": 13,
   "metadata": {},
   "outputs": [
    {
     "name": "stdout",
     "output_type": "stream",
     "text": [
      "Epoch 1\n",
      "Train Accuracy: 0.9219260065288357\n",
      "Test Accuracy: 0.748099891422367\n",
      "[nan nan nan nan nan nan nan nan nan nan nan nan nan nan nan nan nan nan\n",
      " nan nan nan nan nan nan nan nan nan nan nan nan nan nan nan nan nan nan\n",
      " nan nan nan nan nan nan nan nan nan nan nan nan nan nan nan nan nan nan\n",
      " nan nan nan nan nan nan nan nan nan nan nan nan nan nan nan nan nan nan\n",
      " nan nan nan nan nan nan nan nan nan nan nan nan nan nan nan nan nan nan\n",
      " nan nan]\n",
      "[0.00434311 0.03908795 0.0412595  0.04343105 0.04560261 0.04777416\n",
      " 0.04994571 0.05320304 0.05537459 0.06514658 0.06840391 0.07274701\n",
      " 0.07600434 0.08903366 0.09120521 0.1237785  0.12703583 0.17806732\n",
      " 0.18023887 0.1834962  0.18566775 0.21498371 0.21824104 0.22149837\n",
      " 0.22366992 0.24864278 0.25081433 0.2844734  0.28664495 0.3029316\n",
      " 0.30510315 0.36373507 0.36590662 0.38327904 0.3854506  0.39413681\n",
      " 0.39630836 0.4082519  0.41042345 0.45385451 0.45602606 0.47557003\n",
      " 0.47774159 0.48317047 0.4864278  0.4907709  0.49294245 0.57980456\n",
      " 0.58197611 0.58849077 0.59066232 0.60260586 0.60694897 0.64277959\n",
      " 0.64712269 0.6558089  0.65798046 0.66015201 0.66340934 0.66558089\n",
      " 0.66775244 0.669924   0.67209555 0.68946797 0.69163952 0.70141151\n",
      " 0.70466884 0.71009772 0.71226927 0.72312704 0.72529859 0.72855592\n",
      " 0.73289902 0.74158523 0.74375679 0.76655809 0.76872964 0.82953312\n",
      " 0.83279045 0.84256243 0.84473398 0.95222584 0.95439739 0.97176982\n",
      " 0.97394137 0.98262758 0.98479913 0.98805646 0.99022801 0.99348534\n",
      " 0.99782845 1.        ]\n"
     ]
    },
    {
     "data": {
      "image/png": "[encoded data removed]",
      "text/plain": [
       "<Figure size 432x288 with 1 Axes>"
      ]
     },
     "metadata": {
      "needs_background": "light"
     },
     "output_type": "display_data"
    },
    {
     "name": "stdout",
     "output_type": "stream",
     "text": [
      "Epoch 2\n",
      "Train Accuracy: 0.9224700761697497\n",
      "Test Accuracy: 0.7795874049945711\n",
      "[0.         0.         0.         0.         0.         0.\n",
      " 0.         0.         0.         0.         0.         0.\n",
      " 0.         0.         0.         0.         0.         0.\n",
      " 0.         0.         0.         0.         0.         0.\n",
      " 0.         0.         0.         0.         0.         0.\n",
      " 0.         0.         0.         0.         0.         0.\n",
      " 0.         0.         0.         0.         0.         0.\n",
      " 0.         0.         0.         0.         0.         0.\n",
      " 0.         0.         0.         0.         0.         0.\n",
      " 0.         0.         0.         0.         0.         0.\n",
      " 0.         0.         0.         0.         0.         0.03333333\n",
      " 0.03333333 0.03333333 0.03333333 0.03333333 0.03333333 0.03333333\n",
      " 0.03333333 0.03333333 0.03333333 0.03333333 0.03333333 0.03333333\n",
      " 0.03333333 0.03333333 0.03333333 0.03333333 0.03333333 0.06666667\n",
      " 0.06666667 0.06666667 0.06666667 0.06666667 0.06666667 0.06666667\n",
      " 0.06666667 0.06666667 0.13333333 0.13333333 0.16666667 0.16666667\n",
      " 0.16666667 0.16666667 0.2        0.2        0.23333333 0.23333333\n",
      " 0.23333333 0.23333333 0.23333333 0.26666667 0.26666667 0.3\n",
      " 0.3        0.33333333 0.33333333 0.36666667 0.36666667 0.43333333\n",
      " 0.43333333 0.53333333 0.53333333 0.56666667 0.56666667 0.6\n",
      " 0.6        0.7        0.7        0.8        0.8        0.83333333\n",
      " 0.83333333 1.        ]\n",
      "[0.02020202 0.03030303 0.03367003 0.03479237 0.03703704 0.04040404\n",
      " 0.04264871 0.05050505 0.05499439 0.05611672 0.05948373 0.06621773\n",
      " 0.0684624  0.07968575 0.08305275 0.17845118 0.18181818 0.21436588\n",
      " 0.21661055 0.22334456 0.22671156 0.23232323 0.2345679  0.25701459\n",
      " 0.25925926 0.26599327 0.26823793 0.27384961 0.27609428 0.28956229\n",
      " 0.29180696 0.30639731 0.31088664 0.33333333 0.335578   0.36139169\n",
      " 0.3647587  0.40628507 0.40852974 0.41638608 0.42087542 0.43097643\n",
      " 0.4332211  0.47362514 0.47586981 0.50841751 0.51066218 0.52861953\n",
      " 0.5308642  0.56790123 0.5701459  0.58810325 0.59034792 0.59147026\n",
      " 0.59371493 0.59708193 0.5993266  0.61728395 0.61952862 0.62738496\n",
      " 0.62962963 0.64646465 0.64870932 0.67452301 0.67676768 0.67676768\n",
      " 0.69248036 0.69472503 0.69584736 0.69921437 0.71156004 0.71604938\n",
      " 0.73176207 0.73400673 0.74635241 0.74859708 0.75533109 0.75757576\n",
      " 0.7654321  0.76767677 0.78451178 0.78675645 0.82491582 0.82491582\n",
      " 0.82716049 0.83164983 0.83501684 0.8372615  0.8664422  0.8698092\n",
      " 0.92480359 0.92704826 0.92704826 0.9349046  0.9349046  0.93602694\n",
      " 0.9382716  0.93939394 0.93939394 0.94276094 0.94276094 0.94500561\n",
      " 0.94837262 0.95061728 0.9708193  0.9708193  0.97306397 0.97306397\n",
      " 0.98428732 0.98428732 0.98540965 0.98540965 0.98877666 0.98877666\n",
      " 0.99102132 0.99102132 0.99326599 0.99326599 0.99438833 0.99438833\n",
      " 0.996633   0.996633   0.99775533 0.99775533 0.99887767 0.99887767\n",
      " 1.         1.        ]\n"
     ]
    },
    {
     "data": {
      "image/png": "[encoded data removed]",
      "text/plain": [
       "<Figure size 432x288 with 1 Axes>"
      ]
     },
     "metadata": {
      "needs_background": "light"
     },
     "output_type": "display_data"
    },
    {
     "name": "stdout",
     "output_type": "stream",
     "text": [
      "Epoch 3\n",
      "Train Accuracy: 0.911588683351469\n",
      "Test Accuracy: 0.9619978284473398\n",
      "[0.         0.00108578 0.00760043 0.00977199 0.01302932 0.01737242\n",
      " 0.04668838 0.04885993 0.05320304 0.06297503 0.06514658 0.11509229\n",
      " 0.11726384 0.15960912 0.16178067 0.19001086 0.19218241 0.23344191\n",
      " 0.23561346 0.31921824 0.32138979 0.37024973 0.37242128 0.40716612\n",
      " 0.40933768 0.45819761 0.46254072 0.52334419 0.52551574 0.63843648\n",
      " 0.64060803 0.64929425 0.6514658  0.69815418 0.70032573 0.74809989\n",
      " 0.75135722 0.77633008 0.77850163 0.83387622 0.83604777 0.84581976\n",
      " 0.84799131 0.86319218 0.86536374 0.91096634 0.91313789 0.92399566\n",
      " 0.92616721 0.92942454 0.93159609 0.94788274 0.95331162 0.96416938\n",
      " 0.96634093 0.96742671 0.96959826 0.97285559 0.97502714 0.9815418\n",
      " 0.98588491 0.98914224 0.99131379 0.99674267 1.        ]\n",
      "[nan nan nan nan nan nan nan nan nan nan nan nan nan nan nan nan nan nan\n",
      " nan nan nan nan nan nan nan nan nan nan nan nan nan nan nan nan nan nan\n",
      " nan nan nan nan nan nan nan nan nan nan nan nan nan nan nan nan nan nan\n",
      " nan nan nan nan nan nan nan nan nan nan nan]\n"
     ]
    },
    {
     "data": {
      "image/png": "[encoded data removed]",
      "text/plain": [
       "<Figure size 432x288 with 1 Axes>"
      ]
     },
     "metadata": {
      "needs_background": "light"
     },
     "output_type": "display_data"
    },
    {
     "name": "stdout",
     "output_type": "stream",
     "text": [
      "Epoch 4\n",
      "Train Accuracy: 0.9088683351468988\n",
      "Test Accuracy: 0.9120521172638436\n",
      "[0.         0.00217155 0.02931596 0.06731813 0.09446254 0.09663409\n",
      " 0.11183496 0.11726384 0.13463626 0.13897937 0.19761129 0.20086862\n",
      " 0.20738328 0.20955483 0.21064061 0.21498371 0.21715527 0.21932682\n",
      " 0.22258415 0.2247557  0.22801303 0.23235613 0.23561346 0.24429967\n",
      " 0.25515744 0.26927253 0.27144408 0.43865364 0.44082519 0.44842562\n",
      " 0.45059718 0.45819761 0.46036916 0.64820847 0.65038002 0.76112921\n",
      " 0.76330076 0.7752443  0.77741585 0.84690554 0.84907709 0.86644951\n",
      " 0.86862106 0.8946797  0.89685125 0.96525516 0.96742671 0.97068404\n",
      " 0.97394137 0.97828447 0.98045603 0.9815418  0.98371336 1.        ]\n",
      "[nan nan nan nan nan nan nan nan nan nan nan nan nan nan nan nan nan nan\n",
      " nan nan nan nan nan nan nan nan nan nan nan nan nan nan nan nan nan nan\n",
      " nan nan nan nan nan nan nan nan nan nan nan nan nan nan nan nan nan nan]\n"
     ]
    },
    {
     "data": {
      "image/png": "[encoded data removed]",
      "text/plain": [
       "<Figure size 432x288 with 1 Axes>"
      ]
     },
     "metadata": {
      "needs_background": "light"
     },
     "output_type": "display_data"
    },
    {
     "name": "stdout",
     "output_type": "stream",
     "text": [
      "Epoch 5\n",
      "Train Accuracy: 0.9334961997828447\n",
      "Test Accuracy: 0.8652792990142387\n",
      "[0.         0.01752464 0.15334064 0.15662651 0.46768894 0.46987952\n",
      " 0.49835706 0.50164294 0.5060241  0.50821468 0.51259584 0.59255203\n",
      " 0.59474261 0.63636364 0.63855422 0.96933187 0.97152245 1.        ]\n",
      "[nan nan nan nan nan nan nan nan nan nan nan nan nan nan nan nan nan nan]\n"
     ]
    },
    {
     "data": {
      "image/png": "[encoded data removed]",
      "text/plain": [
       "<Figure size 432x288 with 1 Axes>"
      ]
     },
     "metadata": {
      "needs_background": "light"
     },
     "output_type": "display_data"
    }
   ],
   "source": [
    "#LOOCV\n",
    "total_mse = 0\n",
    "alpha = .0001 #Step size\n",
    "iterations = 20000 #No. of iterations\n",
    "\n",
    "error_table = pd.DataFrame(columns=[\"tp\", \"fp\", \"tn\", \"fn\"])#, \"acc\"])\n",
    "\n",
    "\n",
    "for i in range(k):\n",
    "    test_ind = i\n",
    "    train_ind = [x for x in range(k) if x!=i]\n",
    "    #mse, tp, fp, tn, fn = init_log_reg(i, train_ind, test_ind, iterations, alpha)\n",
    "    tp, fp, tn, fn = init_log_reg(i, train_ind, test_ind, iterations, alpha)\n",
    "    #total_mse += mse\n",
    "    error_table = error_table.append({\n",
    "     \"tp\": tp,\n",
    "     \"fp\": fp,\n",
    "     \"tn\": tn,\n",
    "     \"fn\": fn\n",
    "     #\"acc\": (tp+tn)/(tp+fp+fn+tn)\n",
    "      }, ignore_index=True)\n",
    "\n",
    "#print(\"Average Test MSE: \" + str(total_mse/k))"
   ]
  },
  {
   "cell_type": "code",
   "execution_count": 11,
   "metadata": {},
   "outputs": [
    {
     "data": {
      "text/html": [
       "<div>\n",
       "<style scoped>\n",
       "    .dataframe tbody tr th:only-of-type {\n",
       "        vertical-align: middle;\n",
       "    }\n",
       "\n",
       "    .dataframe tbody tr th {\n",
       "        vertical-align: top;\n",
       "    }\n",
       "\n",
       "    .dataframe thead th {\n",
       "        text-align: right;\n",
       "    }\n",
       "</style>\n",
       "<table border=\"1\" class=\"dataframe\">\n",
       "  <thead>\n",
       "    <tr style=\"text-align: right;\">\n",
       "      <th></th>\n",
       "      <th>tp</th>\n",
       "      <th>fp</th>\n",
       "      <th>tn</th>\n",
       "      <th>fn</th>\n",
       "    </tr>\n",
       "  </thead>\n",
       "  <tbody>\n",
       "    <tr>\n",
       "      <th>0</th>\n",
       "      <td>1378</td>\n",
       "      <td>240</td>\n",
       "      <td>2545</td>\n",
       "      <td>434</td>\n",
       "    </tr>\n",
       "  </tbody>\n",
       "</table>\n",
       "</div>"
      ],
      "text/plain": [
       "     tp   fp    tn   fn\n",
       "0  1378  240  2545  434"
      ]
     },
     "execution_count": 11,
     "metadata": {},
     "output_type": "execute_result"
    }
   ],
   "source": [
    "#Confusion Matrix\n",
    "conf_mat = pd.DataFrame(columns=[\"tp\", \"fp\", \"tn\", \"fn\"])\n",
    "conf_mat = conf_mat.append({\n",
    " \"tp\": error_table['tp'].sum(),\n",
    " \"fp\": error_table['fp'].sum(),\n",
    " \"tn\": error_table['tn'].sum(),\n",
    " \"fn\": error_table['fn'].sum()\n",
    " #\"acc\": (tp+tn)/(tp+fp+fn+tn)\n",
    "  }, ignore_index=True)\n",
    "conf_mat"
   ]
  },
  {
   "cell_type": "code",
   "execution_count": null,
   "metadata": {},
   "outputs": [],
   "source": []
  }
 ],
 "metadata": {
  "kernelspec": {
   "display_name": "Python 3",
   "language": "python",
   "name": "python3"
  },
  "language_info": {
   "codemirror_mode": {
    "name": "ipython",
    "version": 3
   },
   "file_extension": ".py",
   "mimetype": "text/x-python",
   "name": "python",
   "nbconvert_exporter": "python",
   "pygments_lexer": "ipython3",
   "version": "3.6.0"
  }
 },
 "nbformat": 4,
 "nbformat_minor": 2
}
