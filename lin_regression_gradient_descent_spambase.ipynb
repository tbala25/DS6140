{
 "cells": [
  {
   "cell_type": "code",
   "execution_count": 1,
   "metadata": {},
   "outputs": [],
   "source": [
    "## Reference\n",
    "# https://mubaris.com/posts/linear-regression/\n",
    "\n",
    "#http://archive.ics.uci.edu/ml/machine-learning-databases/spambase/spambase.DOCUMENTATION"
   ]
  },
  {
   "cell_type": "code",
   "execution_count": 2,
   "metadata": {},
   "outputs": [],
   "source": [
    "## LIBRARIES\n",
    "\n",
    "import numpy as np\n",
    "import pandas as pd\n",
    "import math\n",
    "import random\n",
    "from collections import Counter\n",
    "from numpy.linalg import inv\n",
    "\n",
    "\n",
    "from sklearn.preprocessing import label_binarize\n",
    "from sklearn.metrics import roc_curve, auc\n",
    "import matplotlib.pyplot as plt"
   ]
  },
  {
   "cell_type": "code",
   "execution_count": 3,
   "metadata": {
    "scrolled": true
   },
   "outputs": [
    {
     "name": "stdout",
     "output_type": "stream",
     "text": [
      "0\n",
      "1\n",
      "2\n",
      "3\n",
      "4\n",
      "5\n",
      "6\n",
      "7\n",
      "8\n",
      "9\n",
      "10\n",
      "11\n",
      "12\n",
      "13\n",
      "14\n",
      "15\n",
      "16\n",
      "17\n",
      "18\n",
      "19\n",
      "20\n",
      "21\n",
      "22\n",
      "23\n",
      "24\n",
      "25\n",
      "26\n",
      "27\n",
      "28\n",
      "29\n",
      "30\n",
      "31\n",
      "32\n",
      "33\n",
      "34\n",
      "35\n",
      "36\n",
      "37\n",
      "38\n",
      "39\n",
      "40\n",
      "41\n",
      "42\n",
      "43\n",
      "44\n",
      "45\n",
      "46\n",
      "47\n",
      "48\n",
      "49\n",
      "50\n",
      "51\n",
      "52\n",
      "53\n",
      "54\n",
      "55\n",
      "56\n"
     ]
    }
   ],
   "source": [
    "## LOAD DATA\n",
    "data = pd.read_csv('spambase_data.txt', sep = \",\",header=None)\n",
    "\n",
    "for col in data.iloc[:,:-1]:\n",
    "    stdev = np.std(data[col])\n",
    "    col_mean = data[col].mean()\n",
    "    #print(col)\n",
    "    for i in range(len(data)):\n",
    "        data.iloc[i,col] = (data[col][i] - col_mean)/stdev\n",
    "        \n",
    "#     #data[col] = col\n",
    "    \n",
    "\n",
    "x0 = np.ones(len(data))\n",
    "data['b'] = pd.Series(x0)\n"
   ]
  },
  {
   "cell_type": "code",
   "execution_count": 4,
   "metadata": {},
   "outputs": [],
   "source": [
    "##K-FOLDS\n",
    "\n",
    "k = 5\n",
    "fold_size = math.ceil(len(data) / k)\n",
    "dataset_split = list()\n",
    "ind_count = 0\n",
    "for i in range(k):\n",
    "    #print(i)\n",
    "    dataset_split.append(data.iloc[ind_count:ind_count+fold_size,:])\n",
    "    ind_count = ind_count + fold_size + 1\n",
    "    \n",
    "def create_train_test(train_ind, test_ind):\n",
    "    train = pd.DataFrame()\n",
    "    test = pd.DataFrame()\n",
    "    for i in train_ind:\n",
    "        train = train.append(dataset_split[i])\n",
    "    #for i in test_ind:\n",
    "    test = test.append(dataset_split[test_ind])\n",
    "    return(train, test)"
   ]
  },
  {
   "cell_type": "code",
   "execution_count": 18,
   "metadata": {},
   "outputs": [],
   "source": [
    "def init_lin_reg(k, train_ind, test_ind, iterations, alpha):\n",
    "    print(\"Epoch \" + str(k+1))\n",
    "    \n",
    "    train,test = create_train_test(train_ind, test_ind)\n",
    "\n",
    "    train_x = train.iloc[:,0:57]\n",
    "    train_y = train.iloc[:,57]\n",
    "    \n",
    "    test_x = test.iloc[:,0:57]\n",
    "    test_y = test.iloc[:,57]\n",
    "    print(sum(test_y))\n",
    "    \n",
    "    Y = np.array(train_y, dtype=np.float64)\n",
    "    X = np.array(train_x, dtype=np.float64)\n",
    "    \n",
    "    Y_test = np.array(test_y)\n",
    "    X_test = np.array(test_x)\n",
    "    \n",
    "    weights = np.zeros(57)\n",
    "    \n",
    "    past_costs = []\n",
    "    past_thetas = [weights]\n",
    "    \n",
    "    for i in range(iterations):\n",
    "        prediction = X.dot(weights)\n",
    "        error = prediction - Y\n",
    "        cost = np.dot(error.T, error)\n",
    "        past_costs.append(cost)\n",
    "\n",
    "        weights = weights - (alpha * np.dot(X.T, error))\n",
    "        past_thetas.append(weights)\n",
    "        \n",
    "         \n",
    "    Y_pred = np.dot(X, weights)\n",
    "    #print('Train MSE: ' + str(mse(Y, Y_pred)))\n",
    "    \n",
    "    test_pred = np.dot(X_test, weights)\n",
    "    #test_mse = mse(Y_test, test_pred)\n",
    "    #print('Test MSE: ' + str(test_mse))\n",
    "    tp,fp,tn,fn = accuracy(Y, Y_pred, .65)\n",
    "    print (\"Train Accuracy: \" + str((tp+tn)/(tp+tn+fp+fn)))\n",
    "    \n",
    "    tp,fp,tn,fn = accuracy(Y_test, test_pred, .65)\n",
    "    print (\"Test Accuracy: \" + str((tp+tn)/(tp+tn+fp+fn)))\n",
    "\n",
    "    roc_auc(Y_test, test_pred)\n",
    "    #print(tp)\n",
    "    \n",
    "    #return(test_mse)\n",
    "    return tp,fp,tn,fn\n",
    "         \n",
    "    #return past_weights, past_costs"
   ]
  },
  {
   "cell_type": "code",
   "execution_count": 19,
   "metadata": {},
   "outputs": [],
   "source": [
    "def roc_auc(y_test, preds):\n",
    "    fpr, tpr, threshold = roc_curve(y_test, preds)\n",
    "    roc_auc = auc(fpr, tpr)\n",
    "    print(fpr)\n",
    "    print(tpr)\n",
    "\n",
    "    # method I: plt\n",
    "    #import matplotlib.pyplot as plt\n",
    "    plt.title('Receiver Operating Characteristic')\n",
    "    plt.plot(fpr, tpr, 'b', label = 'AUC = %0.2f' % roc_auc)\n",
    "    plt.legend(loc = 'lower right')\n",
    "    plt.plot([0, 1], [0, 1],'r--')\n",
    "    plt.xlim([0, 1])\n",
    "    plt.ylim([0, 1])\n",
    "    plt.ylabel('True Positive Rate')\n",
    "    plt.xlabel('False Positive Rate')\n",
    "    plt.show()\n",
    "\n",
    "\n",
    "# Model Evaluation - RMSE\n",
    "def mse(Y, Y_pred):\n",
    "    mse = sum((Y - Y_pred) ** 2) / len(Y)\n",
    "    return mse\n",
    "\n",
    "# Model Evaluation - R2 Score\n",
    "def r2_score(Y, Y_pred):\n",
    "    mean_y = np.mean(Y)\n",
    "    ss_tot = sum((Y - mean_y) ** 2)\n",
    "    ss_res = sum((Y - Y_pred) ** 2)\n",
    "    r2 = 1 - (ss_res / ss_tot)\n",
    "    return r2\n",
    "\n",
    "def accuracy(Y, Y_pred, threshold):   \n",
    "    tp,fp,tn,fn = 0,0,0,0\n",
    "    for i in range(len(Y)):\n",
    "        if(Y[i] == 1 and Y_pred[i] >= threshold):\n",
    "            #print(Y[i])\n",
    "            tp += 1\n",
    "        elif(Y[i] == 1 and Y_pred[i] < threshold):\n",
    "            #print(Y[i])\n",
    "            fn += 1\n",
    "        elif(Y[i] == 0 and Y_pred[i] < threshold):\n",
    "            tn += 1\n",
    "        elif(Y[i] == 0 and Y_pred[i] >= threshold):\n",
    "            fp += 1\n",
    "\n",
    "    return tp,fp,tn,fn"
   ]
  },
  {
   "cell_type": "code",
   "execution_count": 20,
   "metadata": {
    "scrolled": false
   },
   "outputs": [
    {
     "name": "stdout",
     "output_type": "stream",
     "text": [
      "Epoch 1\n",
      "921\n",
      "Train Accuracy: 0.7690424374319913\n",
      "Test Accuracy: 0.051031487513572206\n",
      "[nan nan nan nan nan nan nan nan nan nan nan nan nan nan nan nan nan nan\n",
      " nan nan nan nan nan nan nan nan nan nan nan nan nan nan nan nan nan nan\n",
      " nan nan nan nan nan nan nan nan nan nan nan nan nan nan nan nan nan nan\n",
      " nan nan nan nan nan nan nan nan nan nan nan nan nan nan nan nan nan nan\n",
      " nan nan nan nan nan nan nan nan nan nan nan nan nan nan nan nan nan nan\n",
      " nan nan]\n",
      "[0.00108578 0.05537459 0.05754615 0.07926167 0.08143322 0.09446254\n",
      " 0.09663409 0.10206298 0.10423453 0.10640608 0.10966341 0.11074919\n",
      " 0.11292074 0.12920738 0.13137894 0.13897937 0.1422367  0.1465798\n",
      " 0.14875136 0.15743757 0.15960912 0.20304017 0.20521173 0.22366992\n",
      " 0.22692725 0.23669924 0.23995657 0.2432139  0.24538545 0.31813246\n",
      " 0.32030402 0.36373507 0.36590662 0.36807818 0.37024973 0.41693811\n",
      " 0.41910966 0.44299674 0.4451683  0.46036916 0.46254072 0.55266015\n",
      " 0.55591748 0.55917481 0.56134636 0.56351792 0.56568947 0.60694897\n",
      " 0.60912052 0.64495114 0.64712269 0.65906623 0.66123779 0.66883822\n",
      " 0.67209555 0.68186754 0.68403909 0.69815418 0.70032573 0.70141151\n",
      " 0.70575461 0.72204126 0.72421281 0.72855592 0.73072747 0.73289902\n",
      " 0.73507058 0.73615635 0.7383279  0.752443   0.75461455 0.77090119\n",
      " 0.7752443  0.77850163 0.78175896 0.79044517 0.7937025  0.82519001\n",
      " 0.82953312 0.87947883 0.88165038 0.96634093 0.96851249 0.97285559\n",
      " 0.97502714 0.97937025 0.9815418  0.98697068 0.98914224 0.99457112\n",
      " 0.99891422 1.        ]\n"
     ]
    },
    {
     "data": {
      "image/png": "[encoded data removed]",
      "text/plain": [
       "<Figure size 432x288 with 1 Axes>"
      ]
     },
     "metadata": {
      "needs_background": "light"
     },
     "output_type": "display_data"
    },
    {
     "name": "stdout",
     "output_type": "stream",
     "text": [
      "Epoch 2\n",
      "891\n",
      "Train Accuracy: 0.765233949945593\n",
      "Test Accuracy: 0.08686210640608034\n",
      "[0.         0.         0.         0.         0.         0.\n",
      " 0.         0.         0.         0.         0.         0.\n",
      " 0.         0.         0.         0.         0.         0.\n",
      " 0.         0.         0.         0.         0.         0.\n",
      " 0.         0.         0.         0.         0.         0.\n",
      " 0.         0.         0.         0.         0.         0.\n",
      " 0.         0.         0.         0.         0.         0.\n",
      " 0.         0.         0.         0.         0.         0.\n",
      " 0.         0.         0.         0.         0.         0.\n",
      " 0.         0.         0.         0.         0.         0.\n",
      " 0.         0.         0.         0.         0.         0.\n",
      " 0.         0.03333333 0.03333333 0.03333333 0.03333333 0.03333333\n",
      " 0.03333333 0.03333333 0.03333333 0.03333333 0.03333333 0.03333333\n",
      " 0.03333333 0.03333333 0.03333333 0.03333333 0.03333333 0.03333333\n",
      " 0.03333333 0.03333333 0.03333333 0.03333333 0.03333333 0.03333333\n",
      " 0.03333333 0.03333333 0.03333333 0.06666667 0.06666667 0.1\n",
      " 0.1        0.1        0.13333333 0.13333333 0.16666667 0.16666667\n",
      " 0.2        0.2        0.2        0.2        0.23333333 0.23333333\n",
      " 0.23333333 0.26666667 0.26666667 0.3        0.3        0.33333333\n",
      " 0.33333333 0.4        0.4        0.43333333 0.43333333 0.43333333\n",
      " 0.43333333 0.46666667 0.46666667 0.5        0.5        0.53333333\n",
      " 0.53333333 0.56666667 0.56666667 0.6        0.6        0.63333333\n",
      " 0.63333333 0.66666667 0.66666667 0.83333333 0.83333333 0.9\n",
      " 0.9        1.         1.         1.         1.        ]\n",
      "[0.00112233 0.00224467 0.00448934 0.0325477  0.0359147  0.03928171\n",
      " 0.04152637 0.05162738 0.05499439 0.07744108 0.08080808 0.08754209\n",
      " 0.08978676 0.09090909 0.09315376 0.10213244 0.10662177 0.10774411\n",
      " 0.11111111 0.21661055 0.21885522 0.21997755 0.22222222 0.24579125\n",
      " 0.24803591 0.25589226 0.25813692 0.27946128 0.28170595 0.28507295\n",
      " 0.32098765 0.32435466 0.35914703 0.36251403 0.37934905 0.38159371\n",
      " 0.38720539 0.38945006 0.39057239 0.39281706 0.39955107 0.40179574\n",
      " 0.40965208 0.41189675 0.41526375 0.41975309 0.42648709 0.42873176\n",
      " 0.44107744 0.44332211 0.45454545 0.45679012 0.48597082 0.48821549\n",
      " 0.48933782 0.49158249 0.49943883 0.5016835  0.52525253 0.52749719\n",
      " 0.54208754 0.54657688 0.54769921 0.54994388 0.55331089 0.55555556\n",
      " 0.56116723 0.56116723 0.57239057 0.57463524 0.57912458 0.58136925\n",
      " 0.60044893 0.6026936  0.60718294 0.60942761 0.65319865 0.65544332\n",
      " 0.67340067 0.67564534 0.68125701 0.68350168 0.74635241 0.74859708\n",
      " 0.76318743 0.76655443 0.76767677 0.76992144 0.78563412 0.78787879\n",
      " 0.82603816 0.8305275  0.87991021 0.87991021 0.89225589 0.89225589\n",
      " 0.89337823 0.8956229  0.8956229  0.89674523 0.89674523 0.8989899\n",
      " 0.8989899  0.90796857 0.91133558 0.91470258 0.91470258 0.91694725\n",
      " 0.91919192 0.91919192 0.92368126 0.92368126 0.92929293 0.92929293\n",
      " 0.93378227 0.93378227 0.9349046  0.9349046  0.93939394 0.94388328\n",
      " 0.95061728 0.95061728 0.95510662 0.95510662 0.95959596 0.95959596\n",
      " 0.97306397 0.97306397 0.97867565 0.97867565 0.98316498 0.98316498\n",
      " 0.98540965 0.98540965 0.98653199 0.98653199 0.98877666 0.98877666\n",
      " 0.99102132 0.99102132 0.99438833 0.996633   1.        ]\n"
     ]
    },
    {
     "data": {
      "image/png": "[encoded data removed]",
      "text/plain": [
       "<Figure size 432x288 with 1 Axes>"
      ]
     },
     "metadata": {
      "needs_background": "light"
     },
     "output_type": "display_data"
    },
    {
     "name": "stdout",
     "output_type": "stream",
     "text": [
      "Epoch 3\n",
      "0\n",
      "Train Accuracy: 0.6060935799782372\n",
      "Test Accuracy: 0.998914223669924\n",
      "[0.         0.00108578 0.00760043 0.00977199 0.01737242 0.02171553\n",
      " 0.02497286 0.02714441 0.06948969 0.07166124 0.11074919 0.11292074\n",
      " 0.12595005 0.12812161 0.14983713 0.15200869 0.19978284 0.2019544\n",
      " 0.21606949 0.21824104 0.25950054 0.26384365 0.28990228 0.29315961\n",
      " 0.32790445 0.330076   0.33116178 0.33333333 0.3485342  0.35070575\n",
      " 0.38219327 0.38436482 0.41368078 0.41585233 0.68729642 0.68946797\n",
      " 0.7155266  0.71769815 0.74267101 0.74484256 0.77198697 0.77741585\n",
      " 0.82627579 0.82844734 0.83713355 0.8393051  0.84256243 0.85559175\n",
      " 0.8577633  0.86970684 0.87187839 0.87513572 0.87730727 0.90228013\n",
      " 0.90445168 0.92833876 0.93051031 0.94896851 0.95222584 0.95656895\n",
      " 0.9587405  0.96091205 0.96525516 0.96634093 0.96851249 0.97828447\n",
      " 0.98045603 0.98805646 0.99022801 1.        ]\n",
      "[nan nan nan nan nan nan nan nan nan nan nan nan nan nan nan nan nan nan\n",
      " nan nan nan nan nan nan nan nan nan nan nan nan nan nan nan nan nan nan\n",
      " nan nan nan nan nan nan nan nan nan nan nan nan nan nan nan nan nan nan\n",
      " nan nan nan nan nan nan nan nan nan nan nan nan nan nan nan nan]\n"
     ]
    },
    {
     "data": {
      "image/png": "[encoded data removed]",
      "text/plain": [
       "<Figure size 432x288 with 1 Axes>"
      ]
     },
     "metadata": {
      "needs_background": "light"
     },
     "output_type": "display_data"
    },
    {
     "name": "stdout",
     "output_type": "stream",
     "text": [
      "Epoch 4\n",
      "0\n",
      "Train Accuracy: 0.6196953210010882\n",
      "Test Accuracy: 0.991313789359392\n",
      "[0.         0.00108578 0.00651466 0.00868621 0.01954397 0.02497286\n",
      " 0.04885993 0.05103149 0.08034745 0.08469055 0.3029316  0.30618893\n",
      " 0.31596091 0.31813246 0.32247557 0.32356135 0.3257329  0.330076\n",
      " 0.33224756 0.33659066 0.33767644 0.34636265 0.35722041 0.3713355\n",
      " 0.37350706 0.41693811 0.41910966 0.51248643 0.51465798 0.70575461\n",
      " 0.70792617 0.82193268 0.82410423 0.82736156 0.834962   0.83713355\n",
      " 0.84256243 0.84473398 0.84799131 0.85016287 0.85233442 0.85450597\n",
      " 0.86536374 0.86753529 0.9359392  0.94136808 0.94571118 0.94788274\n",
      " 0.94896851 0.95114007 0.96199783 1.        ]\n",
      "[nan nan nan nan nan nan nan nan nan nan nan nan nan nan nan nan nan nan\n",
      " nan nan nan nan nan nan nan nan nan nan nan nan nan nan nan nan nan nan\n",
      " nan nan nan nan nan nan nan nan nan nan nan nan nan nan nan nan]\n"
     ]
    },
    {
     "data": {
      "image/png": "[encoded data removed]",
      "text/plain": [
       "<Figure size 432x288 with 1 Axes>"
      ]
     },
     "metadata": {
      "needs_background": "light"
     },
     "output_type": "display_data"
    },
    {
     "name": "stdout",
     "output_type": "stream",
     "text": [
      "Epoch 5\n",
      "0\n",
      "Train Accuracy: 0.6145494028230185\n",
      "Test Accuracy: 0.9879518072289156\n",
      "[0.         0.00109529 0.03833516 0.04052574 0.11171961 0.11500548\n",
      " 0.39539978 0.39868565 0.40635268 0.40854326 0.41292442 0.52464403\n",
      " 0.52683461 0.82584885 0.82803943 0.84884995 0.85104053 1.        ]\n",
      "[nan nan nan nan nan nan nan nan nan nan nan nan nan nan nan nan nan nan]\n"
     ]
    },
    {
     "data": {
      "image/png": "[encoded data removed]",
      "text/plain": [
       "<Figure size 432x288 with 1 Axes>"
      ]
     },
     "metadata": {
      "needs_background": "light"
     },
     "output_type": "display_data"
    }
   ],
   "source": [
    "#LOOCV\n",
    "total_mse = 0\n",
    "alpha = .0000001 #Step size\n",
    "iterations = 25000 #No. of iterations\n",
    "error_table = pd.DataFrame(columns=[\"tp\", \"fp\", \"tn\", \"fn\"])#, \"acc\"])\n",
    "\n",
    "for i in range(k):\n",
    "    test_ind = i\n",
    "    train_ind = [x for x in range(k) if x!=i]\n",
    "    #print(train_ind)\n",
    "    #total_mse += init_lin_reg(i, train_ind, test_ind, iterations, alpha)\n",
    "    tp, fp, tn, fn = init_lin_reg(i, train_ind, test_ind, iterations, alpha)\n",
    "    error_table = error_table.append({\n",
    "     \"tp\": tp,\n",
    "     \"fp\": fp,\n",
    "     \"tn\": tn,\n",
    "     \"fn\": fn\n",
    "     #\"acc\": (tp+tn)/(tp+fp+fn+tn)\n",
    "      }, ignore_index=True)\n",
    "\n",
    "#print(\"Average Test MSE: \" + str(total_mse/k))"
   ]
  },
  {
   "cell_type": "code",
   "execution_count": 10,
   "metadata": {},
   "outputs": [
    {
     "data": {
      "text/html": [
       "<div>\n",
       "<style scoped>\n",
       "    .dataframe tbody tr th:only-of-type {\n",
       "        vertical-align: middle;\n",
       "    }\n",
       "\n",
       "    .dataframe tbody tr th {\n",
       "        vertical-align: top;\n",
       "    }\n",
       "\n",
       "    .dataframe thead th {\n",
       "        text-align: right;\n",
       "    }\n",
       "</style>\n",
       "<table border=\"1\" class=\"dataframe\">\n",
       "  <thead>\n",
       "    <tr style=\"text-align: right;\">\n",
       "      <th></th>\n",
       "      <th>tp</th>\n",
       "      <th>fp</th>\n",
       "      <th>tn</th>\n",
       "      <th>fn</th>\n",
       "    </tr>\n",
       "  </thead>\n",
       "  <tbody>\n",
       "    <tr>\n",
       "      <th>0</th>\n",
       "      <td>97</td>\n",
       "      <td>20</td>\n",
       "      <td>2765</td>\n",
       "      <td>1715</td>\n",
       "    </tr>\n",
       "  </tbody>\n",
       "</table>\n",
       "</div>"
      ],
      "text/plain": [
       "   tp  fp    tn    fn\n",
       "0  97  20  2765  1715"
      ]
     },
     "execution_count": 10,
     "metadata": {},
     "output_type": "execute_result"
    }
   ],
   "source": [
    "#Confusion Matrix\n",
    "conf_mat = pd.DataFrame(columns=[\"tp\", \"fp\", \"tn\", \"fn\"])\n",
    "conf_mat = conf_mat.append({\n",
    " \"tp\": error_table['tp'].sum(),\n",
    " \"fp\": error_table['fp'].sum(),\n",
    " \"tn\": error_table['tn'].sum(),\n",
    " \"fn\": error_table['fn'].sum()\n",
    " #\"acc\": (tp+tn)/(tp+fp+fn+tn)\n",
    "  }, ignore_index=True)\n",
    "conf_mat"
   ]
  },
  {
   "cell_type": "code",
   "execution_count": null,
   "metadata": {},
   "outputs": [],
   "source": []
  }
 ],
 "metadata": {
  "kernelspec": {
   "display_name": "Python 3",
   "language": "python",
   "name": "python3"
  },
  "language_info": {
   "codemirror_mode": {
    "name": "ipython",
    "version": 3
   },
   "file_extension": ".py",
   "mimetype": "text/x-python",
   "name": "python",
   "nbconvert_exporter": "python",
   "pygments_lexer": "ipython3",
   "version": "3.6.0"
  }
 },
 "nbformat": 4,
 "nbformat_minor": 2
}
